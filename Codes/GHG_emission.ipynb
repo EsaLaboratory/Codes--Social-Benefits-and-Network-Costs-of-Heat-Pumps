{
 "cells": [
  {
   "cell_type": "markdown",
   "source": [
    "# Calculating and Plotting the Green-house Gas (GHG) Emissions"
   ],
   "metadata": {
    "collapsed": false,
    "pycharm": {
     "name": "#%% md\n"
    }
   }
  },
  {
   "cell_type": "code",
   "execution_count": null,
   "outputs": [],
   "source": [
    "import numpy as np\n",
    "import pandas as pd\n",
    "import matplotlib.pyplot as plt\n",
    "import os\n",
    "from scipy import interpolate\n",
    "import seaborn as sns\n",
    "import copy\n",
    "from copy import deepcopy\n",
    "import geopandas as gpd\n",
    "\n",
    "# Better plots\n",
    "plt.rcParams.update(\n",
    "    {\n",
    "        \"lines.markersize\": 10,  # Big points\n",
    "        \"font.size\": 18,  # Larger font\n",
    "        \"xtick.major.size\": 5.0,  # Bigger xticks\n",
    "        \"ytick.major.size\": 5.0,  # Bigger yticks\n",
    "    }\n",
    ")\n",
    "\n",
    "def weighted_median(data, weights):\n",
    "    sort_idx = np.argsort(data)\n",
    "    data = data[sort_idx]\n",
    "    weights = weights[sort_idx]\n",
    "    cumsum = np.cumsum(weights)\n",
    "    cutoff = np.sum(weights) / 2.0\n",
    "    median = data[cumsum >= cutoff][0]\n",
    "\n",
    "    return median\n",
    "\n",
    "def weighted_mean(data, weights):\n",
    "    mean = np.sum(data * weights) / np.sum(weights)\n",
    "    return mean"
   ],
   "metadata": {
    "collapsed": false,
    "pycharm": {
     "name": "#%%\n"
    },
    "is_executing": true
   }
  },
  {
   "cell_type": "markdown",
   "source": [
    "# Load the Dataset"
   ],
   "metadata": {
    "collapsed": false,
    "pycharm": {
     "name": "#%% md\n"
    }
   }
  },
  {
   "cell_type": "code",
   "execution_count": 44,
   "outputs": [
    {
     "data": {
      "text/plain": "0.19188075461140766"
     },
     "execution_count": 44,
     "metadata": {},
     "output_type": "execute_result"
    }
   ],
   "source": [
    "root_path = os.path.join(os.path.dirname(os.getcwd()), 'FuelPoverty_data')\n",
    "\n",
    "data_folder_path_SHCS = os.path.join(root_path, \"SHCS-2019\", \"spss\", \"spss25\")\n",
    "SHCS_subset = [\"annkWh_fp3_BRE\", \"incAHC\", \"primFuel_biomass\", \"la\", \"fpWghtAHC\", \"lafpWghtAHC\", \"L3\", \"arc_P75std_whd\", \"FP3mis9010_rrrstidis\"]\n",
    "df_SHCS = pd.read_spss(os.path.join(data_folder_path_SHCS, \"shcs2019_dataset.sav\"))[SHCS_subset]\n",
    "\n",
    "def preprocess_df(df):\n",
    "    ## process str liuke \">=xx or <= xx\", extract the number xx from them\n",
    "    df = df.assign(annkWh_fp3_BRE = df[\"annkWh_fp3_BRE\"].astype(\"str\").str.extract('(\\d+)').astype(\"float\"),\n",
    "                             incAHC = df[\"incAHC\"].astype(\"str\").str.extract('(\\d+)').astype(\"float\"),\n",
    "                   arc_P75std_whd = df[\"arc_P75std_whd\"].astype(\"str\").str.extract('(\\d+)').astype(\"float\"))\n",
    "\n",
    "    # drop household with no income data\n",
    "    df = df.dropna(subset = [\"incAHC\"])\n",
    "    return df\n",
    "df_SHCS = preprocess_df(df_SHCS)\n",
    "\n",
    "df_SHCS_3y = []\n",
    "for year in [2017, 2018, 2019]:\n",
    "    data_folder_path_SHCS = os.path.join(root_path, \"SHCS-2019\", \"spss\", \"spss25\")\n",
    "    # load and preprocess\n",
    "    df_SHCS_3y.append(preprocess_df(pd.read_spss(os.path.join(data_folder_path_SHCS, f\"shcs{year}_dataset.sav\"))[SHCS_subset]))\n",
    "\n",
    "df_SHCS_3y = pd.concat(df_SHCS_3y)\n",
    "\n",
    "Scot_nongas_rate = df_SHCS[df_SHCS[\"primFuel_biomass\"] != \"Mains gas\"]['fpWghtAHC'].sum() / df_SHCS['fpWghtAHC'].sum()\n",
    "Scot_nongas_rate"
   ],
   "metadata": {
    "collapsed": false,
    "pycharm": {
     "name": "#%%\n"
    },
    "ExecuteTime": {
     "end_time": "2023-11-03T22:42:17.999029200Z",
     "start_time": "2023-11-03T22:42:12.257031Z"
    }
   }
  },
  {
   "cell_type": "code",
   "execution_count": 45,
   "outputs": [
    {
     "data": {
      "text/plain": "0.1287577998771097"
     },
     "execution_count": 45,
     "metadata": {},
     "output_type": "execute_result"
    }
   ],
   "source": [
    "# load the dataframe\n",
    "data_folder_path_EHS_FP = os.path.join(root_path, \"EHS-FuelPoverty-2019\", \"spss\", \"spss25\")\n",
    "subset = [\"WHDBroad\", \"fuelexpn\", \"wathcost\", \"spahcost\", \"litecost\", \"cookcost\", \"fpfullinc\", \"HousingCosts\", \"Mainfueltype\", \"gorehs\", \"aagph1819\", \"Ongas\", \"CentralHeating\"]\n",
    "df_EHS_FP = pd.read_csv(os.path.join(root_path, \"df_EHS_FP_processed.csv\"))\n",
    "Eng_nongas_rate = df_EHS_FP[df_EHS_FP[\"Mainfueltype\"] != \"gas\"]['aagph1819'].sum() / df_EHS_FP['aagph1819'].sum()\n",
    "Eng_nongas_rate"
   ],
   "metadata": {
    "collapsed": false,
    "pycharm": {
     "name": "#%%\n"
    },
    "ExecuteTime": {
     "end_time": "2023-11-03T22:42:18.064029800Z",
     "start_time": "2023-11-03T22:42:18.000030800Z"
    }
   }
  },
  {
   "cell_type": "code",
   "execution_count": null,
   "outputs": [],
   "source": [
    "### Number of household\n",
    "\n",
    "root_path = os.path.join(os.path.dirname(os.getcwd()), 'FuelPoverty_data')\n",
    "look_up_df = pd.read_csv(os.path.join(root_path, \"Ward_to_Local_Authority_District_to_County_to_Region_to_Country_(December_2018)_Lookup_in_United_Kingdom_.csv\"))[[\"LAD18CD\", \"LAD18NM\"]]\n",
    "look_up_df.drop_duplicates(subset=[\"LAD18CD\"], inplace=True)\n",
    "look_up_df = look_up_df[look_up_df[\"LAD18CD\"].str.contains(\"S\")].reset_index(drop=True)\n",
    "scot_name2code_dict = {row[\"LAD18NM\"].lower():row[\"LAD18CD\"] for idx, row in look_up_df.iterrows()}\n",
    "scot_name2code_dict[\"edinburgh, city of\"] = scot_name2code_dict.pop(\"city of edinburgh\")\n",
    "scot_name2code_dict[\"glasgow city\"] = \"S12000049\"\n",
    "scot_name2code_dict[\"north lanarkshire\"] = \"S12000050\"\n",
    "\n",
    "census_root_path = os.path.join(os.path.dirname(os.getcwd()), \"FuelPoverty_data\", \"Census\")\n",
    "Scotland_la_household_no = np.load(os.path.join(census_root_path, \"scot_la2householdno_dict.npy\"), allow_pickle=True).item()\n",
    "\n",
    "Scotland_la_household_no = {la:Scotland_la_household_no[scot_name2code_dict[la]] for la in scot_name2code_dict.keys()}\n",
    "Scotland_la_household_no"
   ],
   "metadata": {
    "collapsed": false,
    "pycharm": {
     "name": "#%%\n"
    },
    "is_executing": true
   }
  },
  {
   "cell_type": "code",
   "execution_count": 47,
   "outputs": [],
   "source": [
    "Scotland_household_no = 2372777\n",
    "England_household_no = 23436085\n",
    "\n",
    "### Energy on Heating kW/year\n",
    "Scotland_mean_heat = 23613.471203792094\n",
    "England_mean_heat = 15578.882071970696"
   ],
   "metadata": {
    "collapsed": false,
    "pycharm": {
     "name": "#%%\n"
    },
    "ExecuteTime": {
     "end_time": "2023-11-03T22:42:18.116029300Z",
     "start_time": "2023-11-03T22:42:18.073030500Z"
    }
   }
  },
  {
   "cell_type": "markdown",
   "source": [
    "### Carbon Intensity Data\n",
    "Data source is [UK Government Report](https://www.gov.uk/government/publications/greenhouse-gas-reporting-conversion-factors-2020)\n",
    "Biomass is the average of seasoned wood and pellets, which is the same assumption as in Fuel poverty estimations.\n",
    "Note that the Biomass CO2 factor has taken into account the absorbation of CO2 during the rapid growth of biomass.\n",
    "\n",
    "All of the numbers below has takend into account the efficiency, so they are essensially KgCO2e/KWh heat"
   ],
   "metadata": {
    "collapsed": false,
    "pycharm": {
     "name": "#%% md\n"
    }
   }
  },
  {
   "cell_type": "code",
   "execution_count": 48,
   "outputs": [],
   "source": [
    "# Carbon Intensity Data\n",
    "\n",
    "### below is the CO2e conversion factors (Kg/kWh) for different fuels after the consideration of boiler efficiency\n",
    "gas_co2_factor = 0.18387  / 0.9\n",
    "###  we want to isolate gas emission\n",
    "gas_co2_factor = 0\n",
    "coal_co2_factor = 0.34462 / 0.75\n",
    "oil_co2_factor = 0.24666 /0.9\n",
    "LPG_co2_factor = 0.21448 /0.9\n",
    "Biomass_factor = 0.01545/0.85\n",
    "# the electricity carbon intensity (gCO2e/kWh) \n",
    "electricity_co2_factor_worst = np.array([233.14])/1000\n",
    "\n",
    "HP_co2_factor_worst = electricity_co2_factor_worst/3"
   ],
   "metadata": {
    "collapsed": false,
    "pycharm": {
     "name": "#%%\n"
    },
    "ExecuteTime": {
     "end_time": "2023-11-03T22:42:18.125029500Z",
     "start_time": "2023-11-03T22:42:18.091029200Z"
    }
   }
  },
  {
   "cell_type": "code",
   "execution_count": 49,
   "outputs": [],
   "source": [
    "england_other_fuel_composition = pd.read_csv(os.path.join(root_path, \"Census\", \"2021Census England Fuel Composition for Other Option (Processed)\"), index_col=0)\n",
    "# make it percentage data\n",
    "england_other_fuel_composition[\"Observation\"] = england_other_fuel_composition[\"Observation\"]/england_other_fuel_composition[\"Observation\"].sum()\n",
    "## This is for the 'other' option in England FP data\n",
    "other_co2_factor = england_other_fuel_composition.loc[\"Tank or bottled gas only\"].item()*LPG_co2_factor + england_other_fuel_composition.loc[\"Oil only\"].item()*oil_co2_factor + england_other_fuel_composition.loc[\"Wood only\"].item()*Biomass_factor + england_other_fuel_composition.loc[\"Solid fuel only\"].item()*coal_co2_factor"
   ],
   "metadata": {
    "collapsed": false,
    "pycharm": {
     "name": "#%%\n"
    },
    "ExecuteTime": {
     "end_time": "2023-11-03T22:42:18.127028900Z",
     "start_time": "2023-11-03T22:42:18.104030100Z"
    }
   }
  },
  {
   "cell_type": "markdown",
   "source": [
    "# Calculate GHG Emission From Residential Heating"
   ],
   "metadata": {
    "collapsed": false,
    "pycharm": {
     "name": "#%% md\n"
    }
   }
  },
  {
   "cell_type": "code",
   "execution_count": 50,
   "outputs": [],
   "source": [
    "### Calculate GHG Emission for Scotland\n",
    "df_SHCS_GHG = df_SHCS[[\"la\", \"primFuel_biomass\", \"fpWghtAHC\", \"lafpWghtAHC\"]].copy()\n",
    "df_SHCS_GHG[\"heat energy\"] = df_SHCS[\"annkWh_fp3_BRE\"].copy() * 0.87\n",
    "\n",
    "df_SHCS_GHG_3y = df_SHCS_3y[[\"la\", \"primFuel_biomass\", \"fpWghtAHC\", \"lafpWghtAHC\"]].copy()\n",
    "df_SHCS_GHG_3y[\"heat energy\"] = df_SHCS_3y[\"annkWh_fp3_BRE\"].copy() * 0.87\n",
    "\n",
    "def Scot_annual_CO2(elec_co2_factor, HP_co2_factor, df_SHCS_GHG, la = False):\n",
    "    df_SHCS_GHG[\"GHG (kg)\"] = None\n",
    "    for option in df_SHCS_GHG[\"primFuel_biomass\"].unique():\n",
    "        if option in [\"Mains gas\", \"Communal Heating\"]:\n",
    "            co2_factor = gas_co2_factor\n",
    "        elif option == \"Electricity\":\n",
    "            co2_factor = elec_co2_factor\n",
    "        elif option == \"Oil\":\n",
    "            co2_factor = oil_co2_factor\n",
    "        elif option == \"Solid mineral fuel\":\n",
    "            co2_factor = coal_co2_factor\n",
    "        elif option == \"LPG bulk or bottled\":\n",
    "            co2_factor = LPG_co2_factor\n",
    "        elif option == \"Biomass\":\n",
    "            co2_factor = Biomass_factor\n",
    "        elif option == \"HP\":\n",
    "            co2_factor = HP_co2_factor\n",
    "        else:\n",
    "            raise ValueError(\"Check your option\")\n",
    "\n",
    "        df_SHCS_GHG.loc[df_SHCS_GHG[\"primFuel_biomass\"] == option, \"GHG (kg)\"] = df_SHCS_GHG.loc[df_SHCS_GHG[\"primFuel_biomass\"] == option, \"heat energy\"] * co2_factor\n",
    "\n",
    "    if la:\n",
    "        res = {}\n",
    "        la_list = df_SHCS[\"la\"].unique()\n",
    "        for la_name in la_list:\n",
    "            df_SHCS_GHG_sub =df_SHCS_GHG[df_SHCS_GHG[\"la\"] == la_name]\n",
    "            tot_GHG_la = np.sum(df_SHCS_GHG_sub[\"GHG (kg)\"].values * df_SHCS_GHG_sub[\"lafpWghtAHC\"].values)\n",
    "            # scale based on the SScotland's total number of households\n",
    "            tot_GHG_la = tot_GHG_la * Scotland_la_household_no[la_name.lower()] / df_SHCS_GHG_sub[\"lafpWghtAHC\"].sum()\n",
    "            res[la_name] = tot_GHG_la\n",
    "\n",
    "        return res\n",
    "\n",
    "    df_SHCS_GHG[\"GHG (kg)\"] = df_SHCS_GHG[\"GHG (kg)\"].astype(\"float\")\n",
    "\n",
    "    tot_GHG = np.sum(df_SHCS_GHG[\"GHG (kg)\"].values * df_SHCS_GHG[\"fpWghtAHC\"].values)\n",
    "    # scale based on the SScotland's total number of households\n",
    "    tot_GHG = tot_GHG * Scotland_household_no / df_SHCS_GHG[\"fpWghtAHC\"].sum()\n",
    "    return tot_GHG\n",
    "\n",
    "Scotland_GHG_beforeHP = []\n",
    "for i in range(len(electricity_co2_factor_worst)):\n",
    "    elec_co2_factor = electricity_co2_factor_worst[i]\n",
    "    HP_co2_factor = HP_co2_factor_worst[i]\n",
    "\n",
    "    tot_GHG = Scot_annual_CO2(elec_co2_factor, HP_co2_factor, df_SHCS_GHG.copy())\n",
    "    Scotland_GHG_beforeHP.append(tot_GHG)\n",
    "\n",
    "Scotland_GHG_beforeHP = np.array(Scotland_GHG_beforeHP)\n",
    "\n",
    "df_SHCS_GHG_HP = df_SHCS_GHG.copy()\n",
    "df_SHCS_GHG_HP[\"primFuel_biomass\"] = df_SHCS_GHG_HP[\"primFuel_biomass\"].astype(\"str\")\n",
    "df_SHCS_GHG_HP.loc[df_SHCS_GHG_HP[\"primFuel_biomass\"] != \"Mains gas\", \"primFuel_biomass\"] = \"HP\"\n",
    "\n",
    "Scotland_GHG_afterHP = []\n",
    "for i in range(len(electricity_co2_factor_worst)):\n",
    "    elec_co2_factor = electricity_co2_factor_worst[i]\n",
    "    HP_co2_factor = HP_co2_factor_worst[i]\n",
    "\n",
    "    tot_GHG = Scot_annual_CO2(elec_co2_factor, HP_co2_factor, df_SHCS_GHG_HP.copy())\n",
    "    Scotland_GHG_afterHP.append(tot_GHG)\n",
    "\n",
    "Scotland_GHG_afterHP = np.array(Scotland_GHG_afterHP)"
   ],
   "metadata": {
    "collapsed": false,
    "pycharm": {
     "name": "#%%\n"
    },
    "ExecuteTime": {
     "end_time": "2023-11-03T22:42:18.222029200Z",
     "start_time": "2023-11-03T22:42:18.189029400Z"
    }
   }
  },
  {
   "cell_type": "code",
   "execution_count": 51,
   "outputs": [],
   "source": [
    "### Calculate GHG Emission for England\n",
    "df_EHS_GHG = df_EHS_FP[[\"gorehs\", \"Mainfueltype\", \"aagph1819\", \"heat_energy\", \"other_energy\"]].copy()\n",
    "\n",
    "def Eng_annual_CO2(elec_co2_factor, HP_co2_factor, df_EHS_GHG, la = False):\n",
    "    df_EHS_GHG[\"GHG (kg)\"] = None\n",
    "    for option in df_EHS_GHG[\"Mainfueltype\"].unique():\n",
    "        if option in [\"gas\"]:\n",
    "            co2_factor = gas_co2_factor\n",
    "        elif option == \"electricity\":\n",
    "            co2_factor = elec_co2_factor\n",
    "        elif option == \"other\":\n",
    "            co2_factor = other_co2_factor\n",
    "        elif option == \"HP\":\n",
    "            co2_factor = HP_co2_factor\n",
    "        else:\n",
    "            raise ValueError(\"Check your option\")\n",
    "\n",
    "        df_EHS_GHG.loc[df_EHS_GHG[\"Mainfueltype\"] == option, \"GHG (kg)\"] = df_EHS_GHG.loc[df_EHS_GHG[\"Mainfueltype\"] == option, \"heat_energy\"] * co2_factor\n",
    "\n",
    "    if la:\n",
    "        res = {}\n",
    "        reg_list = df_EHS_GHG[\"gorehs\"].unique()\n",
    "        scaling_factor = England_household_no / df_EHS_GHG[\"aagph1819\"].sum()\n",
    "        for reg_name in reg_list:\n",
    "            df_EHS_GHG_sub =df_EHS_GHG[df_EHS_GHG[\"gorehs\"] == reg_name]\n",
    "            tot_GHG_reg = np.sum(df_EHS_GHG_sub[\"GHG (kg)\"].values * df_EHS_GHG_sub[\"aagph1819\"].values)\n",
    "            # scale based on the SScotland's total number of households\n",
    "            tot_GHG_reg = tot_GHG_reg * scaling_factor\n",
    "            res[reg_name] = tot_GHG_reg\n",
    "\n",
    "        return res\n",
    "\n",
    "    tot_GHG = np.sum(df_EHS_GHG[\"GHG (kg)\"].values * df_EHS_GHG[\"aagph1819\"].values)\n",
    "    # scale based on the SScotland's total number of households\n",
    "    tot_GHG = tot_GHG * England_household_no / df_EHS_GHG[\"aagph1819\"].sum()\n",
    "    return tot_GHG\n",
    "\n",
    "England_GHG_beforeHP = []\n",
    "for i in range(len(electricity_co2_factor_worst)):\n",
    "    elec_co2_factor = electricity_co2_factor_worst[i]\n",
    "    HP_co2_factor = HP_co2_factor_worst[i]\n",
    "\n",
    "    tot_GHG = Eng_annual_CO2(elec_co2_factor, HP_co2_factor, df_EHS_GHG.copy())\n",
    "    England_GHG_beforeHP.append(tot_GHG)\n",
    "England_GHG_beforeHP = np.array(England_GHG_beforeHP)\n",
    "\n",
    "df_EHS_GHG_HP = df_EHS_GHG.copy()\n",
    "df_EHS_GHG_HP.loc[df_EHS_GHG_HP[\"Mainfueltype\"] != \"gas\", \"Mainfueltype\"] = \"HP\"\n",
    "\n",
    "England_GHG_afterHP = []\n",
    "for i in range(len(electricity_co2_factor_worst)):\n",
    "    elec_co2_factor = electricity_co2_factor_worst[i]\n",
    "    HP_co2_factor = HP_co2_factor_worst[i]\n",
    "\n",
    "    tot_GHG = Eng_annual_CO2(elec_co2_factor, HP_co2_factor, df_EHS_GHG_HP.copy())\n",
    "    England_GHG_afterHP.append(tot_GHG)\n",
    "\n",
    "England_GHG_afterHP = np.array(England_GHG_afterHP)"
   ],
   "metadata": {
    "collapsed": false,
    "pycharm": {
     "name": "#%%\n"
    },
    "ExecuteTime": {
     "end_time": "2023-11-03T22:42:18.284030500Z",
     "start_time": "2023-11-03T22:42:18.227029500Z"
    }
   }
  },
  {
   "cell_type": "code",
   "execution_count": 55,
   "outputs": [
    {
     "name": "stdout",
     "output_type": "stream",
     "text": [
      "For Scotland, its nongas rate is 0.19188075461140766 and its electric heater rate is 0.10445758936679374\n",
      "For England, its nongas rate is 0.1287577998771097 and its electric heater rate is 0.07341252978277052\n"
     ]
    }
   ],
   "source": [
    "Scot_elec_rate = df_SHCS[df_SHCS[\"primFuel_biomass\"] == \"Electricity\"]['fpWghtAHC'].sum() / df_SHCS['fpWghtAHC'].sum()\n",
    "Eng_elec_rate = df_EHS_FP[df_EHS_FP[\"Mainfueltype\"] == \"electricity\"]['aagph1819'].sum() / df_EHS_FP['aagph1819'].sum()\n",
    "\n",
    "print(f\"For Scotland, its nongas rate is {Scot_nongas_rate} and its electric heater rate is {Scot_elec_rate}\")\n",
    "print(f\"For England, its nongas rate is {Eng_nongas_rate} and its electric heater rate is {Eng_elec_rate}\")"
   ],
   "metadata": {
    "collapsed": false,
    "pycharm": {
     "name": "#%%\n"
    },
    "ExecuteTime": {
     "end_time": "2023-11-03T22:42:18.962030600Z",
     "start_time": "2023-11-03T22:42:18.944030Z"
    }
   }
  },
  {
   "cell_type": "markdown",
   "source": [
    "# GHG Emission For LA/Reg"
   ],
   "metadata": {
    "collapsed": false,
    "pycharm": {
     "name": "#%% md\n"
    }
   }
  },
  {
   "cell_type": "markdown",
   "source": [
    "## Scotland"
   ],
   "metadata": {
    "collapsed": false,
    "pycharm": {
     "name": "#%% md\n"
    }
   }
  },
  {
   "cell_type": "code",
   "execution_count": 56,
   "outputs": [],
   "source": [
    "# drop ambiguious heating option\n",
    "df_SHCS_GHG_3y = df_SHCS_GHG_3y[df_SHCS_GHG_3y['primFuel_biomass'] != \"N/A or Unobtainable\"]\n",
    "\n",
    "elec_co2_factor = electricity_co2_factor_worst[0]\n",
    "HP_co2_factor = HP_co2_factor_worst[0]\n",
    "Scot_laGHG_dict = Scot_annual_CO2(elec_co2_factor, HP_co2_factor, df_SHCS_GHG_3y.copy(), la=True)"
   ],
   "metadata": {
    "collapsed": false,
    "pycharm": {
     "name": "#%%\n"
    },
    "ExecuteTime": {
     "end_time": "2023-11-03T22:42:18.991029100Z",
     "start_time": "2023-11-03T22:42:18.958030700Z"
    }
   }
  },
  {
   "cell_type": "code",
   "execution_count": 57,
   "outputs": [],
   "source": [
    "df_SHCS_GHG_HP_3y = df_SHCS_GHG_3y.copy()\n",
    "df_SHCS_GHG_HP_3y[\"primFuel_biomass\"] = df_SHCS_GHG_HP_3y[\"primFuel_biomass\"].astype(\"str\")\n",
    "df_SHCS_GHG_HP_3y.loc[df_SHCS_GHG_HP_3y[\"primFuel_biomass\"] != \"Mains gas\", \"primFuel_biomass\"] = \"HP\"\n",
    "\n",
    "Scot_laGHG_HP_dict = Scot_annual_CO2(elec_co2_factor, HP_co2_factor, df_SHCS_GHG_HP_3y.copy(), la=True)"
   ],
   "metadata": {
    "collapsed": false,
    "pycharm": {
     "name": "#%%\n"
    },
    "ExecuteTime": {
     "end_time": "2023-11-03T22:42:19.026029700Z",
     "start_time": "2023-11-03T22:42:18.989030Z"
    }
   }
  },
  {
   "cell_type": "code",
   "execution_count": 58,
   "outputs": [],
   "source": [
    "## get the reduction rate\n",
    "Scot_GHG_reduction_rate_dict = {}\n",
    "for la_name in Scot_laGHG_dict.keys():\n",
    "    reduction_rate = (Scot_laGHG_dict[la_name] - Scot_laGHG_HP_dict[la_name]) / Scot_laGHG_dict[la_name]\n",
    "    Scot_GHG_reduction_rate_dict[la_name] = reduction_rate\n",
    "\n",
    "np.save(os.path.join(root_path, \"Scot_GHG_reduction_rate_dict.npy\"),Scot_GHG_reduction_rate_dict, allow_pickle=True)"
   ],
   "metadata": {
    "collapsed": false,
    "pycharm": {
     "name": "#%%\n"
    },
    "ExecuteTime": {
     "end_time": "2023-11-03T22:42:19.034029900Z",
     "start_time": "2023-11-03T22:42:19.020029900Z"
    }
   }
  },
  {
   "cell_type": "markdown",
   "source": [
    "## England"
   ],
   "metadata": {
    "collapsed": false,
    "pycharm": {
     "name": "#%% md\n"
    }
   }
  },
  {
   "cell_type": "code",
   "execution_count": 59,
   "outputs": [],
   "source": [
    "Eng_regGHG_dict = Eng_annual_CO2(elec_co2_factor, HP_co2_factor, df_EHS_GHG.copy(), la = True)\n",
    "Eng_regGHG_HP_dict = Eng_annual_CO2(elec_co2_factor, HP_co2_factor, df_EHS_GHG_HP.copy(), la = True)\n",
    "\n",
    "## get the reduction rate\n",
    "Eng_GHG_reduction_rate_dict = {}\n",
    "for reg_name in Eng_regGHG_dict.keys():\n",
    "    reduction_rate = (Eng_regGHG_dict[reg_name] - Eng_regGHG_HP_dict[reg_name]) / Eng_regGHG_dict[reg_name]\n",
    "    Eng_GHG_reduction_rate_dict[reg_name] = reduction_rate\n",
    "\n",
    "GHG_reduction_rate_dict = {**Eng_GHG_reduction_rate_dict, **Scot_GHG_reduction_rate_dict}"
   ],
   "metadata": {
    "collapsed": false,
    "pycharm": {
     "name": "#%%\n"
    },
    "ExecuteTime": {
     "end_time": "2023-11-03T22:42:19.068030Z",
     "start_time": "2023-11-03T22:42:19.034029900Z"
    }
   }
  },
  {
   "cell_type": "code",
   "execution_count": 60,
   "outputs": [],
   "source": [
    "np.save(os.path.join(root_path, \"GHG_reduction_rate_dict.npy\"),GHG_reduction_rate_dict, allow_pickle=True)"
   ],
   "metadata": {
    "collapsed": false,
    "pycharm": {
     "name": "#%%\n"
    },
    "ExecuteTime": {
     "end_time": "2023-11-03T22:42:19.077031500Z",
     "start_time": "2023-11-03T22:42:19.064029600Z"
    }
   }
  },
  {
   "cell_type": "code",
   "execution_count": 61,
   "outputs": [
    {
     "data": {
      "text/plain": "{'Yorkshire and the Humber': 0.6954654542890757,\n 'West Midlands': 0.6935197477775759,\n 'South East': 0.6898967606266391,\n 'South West': 0.6935119348161346,\n 'East Midlands': 0.6929511546509225,\n 'North East': 0.6929360671028026,\n 'London': 0.6829001321493317,\n 'North West': 0.6892477154948933,\n 'East': 0.6964487617941924,\n 'Edinburgh, City of': 0.6405329398080319,\n 'North Ayrshire': 0.6882242440126619,\n 'East Ayrshire': 0.6605564680912677,\n 'North Lanarkshire': 0.6686828272879732,\n 'Perth and Kinross': 0.676723635822013,\n 'East Lothian': 0.6534015603231912,\n 'Aberdeen City': 0.5052418567089658,\n 'Glasgow City': 0.5929596926745694,\n 'East Renfrewshire': 0.6304003912458803,\n 'Highland': 0.684691483234857,\n 'Argyll and Bute': 0.6942479729742628,\n 'Na h-Eileanan Siar': 0.7040245978676097,\n 'Dumfries and Galloway': 0.6998537757537884,\n 'Orkney Islands': 0.6983370963741831,\n 'Dundee City': 0.6139428806212023,\n 'Shetland Islands': 0.6787665078087786,\n 'East Dunbartonshire': 0.6610250607138467,\n 'West Dunbartonshire': 0.6120052580552234,\n 'Falkirk': 0.7127261503103152,\n 'Midlothian': 0.6604769575867331,\n 'Renfrewshire': 0.6373977748771541,\n 'Moray': 0.6968848164636956,\n 'Scottish Borders': 0.6938098520711811,\n 'Fife': 0.6936768492698882,\n 'Clackmannanshire': 0.6863208061902735,\n 'Stirling': 0.6864350114379499,\n 'West Lothian': 0.6971270908813351,\n 'South Lanarkshire': 0.6543694080314412,\n 'Angus': 0.682132204223928,\n 'South Ayrshire': 0.6814965667146273,\n 'Inverclyde': 0.547325500835748,\n 'Aberdeenshire': 0.7037103391385292}"
     },
     "execution_count": 61,
     "metadata": {},
     "output_type": "execute_result"
    }
   ],
   "source": [
    "GHG_reduction_rate_dict"
   ],
   "metadata": {
    "collapsed": false,
    "pycharm": {
     "name": "#%%\n"
    },
    "ExecuteTime": {
     "end_time": "2023-11-03T22:42:19.121029400Z",
     "start_time": "2023-11-03T22:42:19.078031200Z"
    }
   }
  },
  {
   "cell_type": "code",
   "execution_count": 62,
   "outputs": [
    {
     "data": {
      "text/plain": "{'whiskers': [<matplotlib.lines.Line2D at 0x28ca836dd00>,\n  <matplotlib.lines.Line2D at 0x28ca836dfa0>],\n 'caps': [<matplotlib.lines.Line2D at 0x28ca67f1280>,\n  <matplotlib.lines.Line2D at 0x28ca67f1520>],\n 'boxes': [<matplotlib.lines.Line2D at 0x28ca836da60>],\n 'medians': [<matplotlib.lines.Line2D at 0x28ca67f17c0>],\n 'fliers': [<matplotlib.lines.Line2D at 0x28ca67f1a60>],\n 'means': []}"
     },
     "execution_count": 62,
     "metadata": {},
     "output_type": "execute_result"
    },
    {
     "data": {
      "text/plain": "<Figure size 640x480 with 1 Axes>",
      "image/png": "[encoded data removed]"
     },
     "metadata": {},
     "output_type": "display_data"
    }
   ],
   "source": [
    "plt.boxplot(GHG_reduction_rate_dict.values())"
   ],
   "metadata": {
    "collapsed": false,
    "pycharm": {
     "name": "#%%\n"
    },
    "ExecuteTime": {
     "end_time": "2023-11-03T22:42:19.182030800Z",
     "start_time": "2023-11-03T22:42:19.094029800Z"
    }
   }
  },
  {
   "cell_type": "code",
   "execution_count": 73,
   "outputs": [
    {
     "data": {
      "text/plain": "0.926829268292683"
     },
     "execution_count": 73,
     "metadata": {},
     "output_type": "execute_result"
    }
   ],
   "source": [
    "a = np.array(list(GHG_reduction_rate_dict.values()))\n",
    "np.sum(a>=0.6) / len(a)"
   ],
   "metadata": {
    "collapsed": false,
    "pycharm": {
     "name": "#%%\n"
    },
    "ExecuteTime": {
     "end_time": "2023-11-05T14:48:42.127655800Z",
     "start_time": "2023-11-05T14:48:42.104655500Z"
    }
   }
  },
  {
   "cell_type": "code",
   "execution_count": 72,
   "outputs": [],
   "source": [
    "All_la_GHG_dict = {**Scot_laGHG_dict, **Eng_regGHG_dict}\n",
    "All_la_GHG_HP_dict = {**Scot_laGHG_HP_dict, **Eng_regGHG_HP_dict}\n",
    "\n",
    "np.save(os.path.join(root_path, \"All_la_GHG_dict.npy\"),All_la_GHG_dict, allow_pickle=True)\n",
    "np.save(os.path.join(root_path, \"All_la_GHG_HP_dict.npy\"),All_la_GHG_HP_dict, allow_pickle=True)"
   ],
   "metadata": {
    "collapsed": false,
    "pycharm": {
     "name": "#%%\n"
    },
    "ExecuteTime": {
     "end_time": "2023-11-04T16:50:04.999788Z",
     "start_time": "2023-11-04T16:50:04.983788400Z"
    }
   }
  },
  {
   "cell_type": "code",
   "execution_count": 67,
   "outputs": [
    {
     "data": {
      "text/plain": "12440592500.323713"
     },
     "execution_count": 67,
     "metadata": {},
     "output_type": "execute_result"
    }
   ],
   "source": [
    "sum(All_la_GHG_dict.values())"
   ],
   "metadata": {
    "collapsed": false,
    "ExecuteTime": {
     "end_time": "2023-11-04T16:46:01.950367Z",
     "start_time": "2023-11-04T16:46:01.928369600Z"
    }
   }
  },
  {
   "cell_type": "code",
   "execution_count": 70,
   "outputs": [
    {
     "data": {
      "text/plain": "3.860775636462373"
     },
     "execution_count": 70,
     "metadata": {},
     "output_type": "execute_result"
    }
   ],
   "source": [
    "sum(All_la_GHG_HP_dict.values()) / 1e9"
   ],
   "metadata": {
    "collapsed": false
   }
  },
  {
   "cell_type": "code",
   "execution_count": null,
   "outputs": [],
   "source": [],
   "metadata": {
    "collapsed": false
   }
  }
 ],
 "metadata": {
  "kernelspec": {
   "name": "fuelpoverty",
   "language": "python",
   "display_name": "fuelpoverty"
  },
  "language_info": {
   "codemirror_mode": {
    "name": "ipython",
    "version": 2
   },
   "file_extension": ".py",
   "mimetype": "text/x-python",
   "name": "python",
   "nbconvert_exporter": "python",
   "pygments_lexer": "ipython2",
   "version": "2.7.6"
  }
 },
 "nbformat": 4,
 "nbformat_minor": 0
}
